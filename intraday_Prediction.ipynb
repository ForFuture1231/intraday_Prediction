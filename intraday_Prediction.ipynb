{
 "cells": [
  {
   "cell_type": "code",
   "execution_count": 1,
   "metadata": {},
   "outputs": [],
   "source": [
    "import pandas as pd\n",
    "import numpy as np\n",
    "from sklearn.ensemble import RandomForestClassifier\n",
    "from sklearn.model_selection import TimeSeriesSplit\n",
    "from scipy.stats import mode\n",
    "from sklearn.preprocessing import RobustScaler, MinMaxScaler\n",
    "from datetime import datetime,timedelta\n",
    "from lightgbm import LGBMClassifier\n",
    "from itertools import product\n",
    "from sklearn.model_selection import GridSearchCV\n",
    "from sklearn.metrics import roc_auc_score\n",
    "import matplotlib.pyplot as plt"
   ]
  },
  {
   "cell_type": "code",
   "execution_count": 2,
   "id": "34ee4866",
   "metadata": {},
   "outputs": [],
   "source": [
    "quote = pd.read_csv(\"quote.csv\")\n",
    "trade = pd.read_csv(\"trade.csv\")"
   ]
  },
  {
   "cell_type": "markdown",
   "metadata": {},
   "source": [
    "# Exploratory Data Analysis"
   ]
  },
  {
   "cell_type": "code",
   "execution_count": 3,
   "id": "fb13fdca",
   "metadata": {},
   "outputs": [],
   "source": [
    "quote[\"time\"] = pd.to_datetime(quote['recv_time'].values/1e6, utc=True, unit='s').tz_convert(\"Asia/Shanghai\")\n",
    "trade[\"time\"] = pd.to_datetime(trade['recv_time'].values/1e6, utc=True, unit='s').tz_convert(\"Asia/Shanghai\")"
   ]
  },
  {
   "cell_type": "code",
   "execution_count": 4,
   "metadata": {},
   "outputs": [
    {
     "data": {
      "text/plain": [
       "recv_time    0\n",
       "symbol       0\n",
       "bid_price    0\n",
       "bid_size     0\n",
       "ask_price    0\n",
       "ask_size     0\n",
       "time         0\n",
       "dtype: int64"
      ]
     },
     "execution_count": 4,
     "metadata": {},
     "output_type": "execute_result"
    }
   ],
   "source": [
    "quote.isnull().sum()"
   ]
  },
  {
   "cell_type": "code",
   "execution_count": 5,
   "metadata": {},
   "outputs": [
    {
     "data": {
      "text/plain": [
       "recv_time      0\n",
       "symbol         0\n",
       "trade_price    0\n",
       "trade_qty      0\n",
       "time           0\n",
       "dtype: int64"
      ]
     },
     "execution_count": 5,
     "metadata": {},
     "output_type": "execute_result"
    }
   ],
   "source": [
    "trade.isnull().sum()"
   ]
  },
  {
   "cell_type": "code",
   "execution_count": 6,
   "metadata": {},
   "outputs": [
    {
     "data": {
      "text/plain": [
       "recv_time    0\n",
       "symbol       0\n",
       "bid_price    0\n",
       "bid_size     0\n",
       "ask_price    0\n",
       "ask_size     0\n",
       "time         0\n",
       "dtype: int64"
      ]
     },
     "execution_count": 6,
     "metadata": {},
     "output_type": "execute_result"
    }
   ],
   "source": [
    "quote.isna().sum()"
   ]
  },
  {
   "cell_type": "code",
   "execution_count": 7,
   "metadata": {},
   "outputs": [
    {
     "data": {
      "text/plain": [
       "recv_time      0\n",
       "symbol         0\n",
       "trade_price    0\n",
       "trade_qty      0\n",
       "time           0\n",
       "dtype: int64"
      ]
     },
     "execution_count": 7,
     "metadata": {},
     "output_type": "execute_result"
    }
   ],
   "source": [
    "trade.isna().sum()"
   ]
  },
  {
   "cell_type": "code",
   "execution_count": 8,
   "metadata": {},
   "outputs": [
    {
     "name": "stdout",
     "output_type": "stream",
     "text": [
      "<class 'pandas.core.frame.DataFrame'>\n",
      "RangeIndex: 1312745 entries, 0 to 1312744\n",
      "Data columns (total 7 columns):\n",
      " #   Column     Non-Null Count    Dtype                        \n",
      "---  ------     --------------    -----                        \n",
      " 0   recv_time  1312745 non-null  int64                        \n",
      " 1   symbol     1312745 non-null  object                       \n",
      " 2   bid_price  1312745 non-null  float64                      \n",
      " 3   bid_size   1312745 non-null  int64                        \n",
      " 4   ask_price  1312745 non-null  float64                      \n",
      " 5   ask_size   1312745 non-null  int64                        \n",
      " 6   time       1312745 non-null  datetime64[ns, Asia/Shanghai]\n",
      "dtypes: datetime64[ns, Asia/Shanghai](1), float64(2), int64(3), object(1)\n",
      "memory usage: 70.1+ MB\n"
     ]
    }
   ],
   "source": [
    "quote.info()"
   ]
  },
  {
   "cell_type": "code",
   "execution_count": 9,
   "metadata": {},
   "outputs": [
    {
     "name": "stdout",
     "output_type": "stream",
     "text": [
      "<class 'pandas.core.frame.DataFrame'>\n",
      "RangeIndex: 1158474 entries, 0 to 1158473\n",
      "Data columns (total 5 columns):\n",
      " #   Column       Non-Null Count    Dtype                        \n",
      "---  ------       --------------    -----                        \n",
      " 0   recv_time    1158474 non-null  int64                        \n",
      " 1   symbol       1158474 non-null  object                       \n",
      " 2   trade_price  1158474 non-null  float64                      \n",
      " 3   trade_qty    1158474 non-null  int64                        \n",
      " 4   time         1158474 non-null  datetime64[ns, Asia/Shanghai]\n",
      "dtypes: datetime64[ns, Asia/Shanghai](1), float64(1), int64(2), object(1)\n",
      "memory usage: 44.2+ MB\n"
     ]
    }
   ],
   "source": [
    "trade.info()"
   ]
  },
  {
   "cell_type": "code",
   "execution_count": 10,
   "metadata": {},
   "outputs": [
    {
     "data": {
      "text/html": [
       "<div>\n",
       "<style scoped>\n",
       "    .dataframe tbody tr th:only-of-type {\n",
       "        vertical-align: middle;\n",
       "    }\n",
       "\n",
       "    .dataframe tbody tr th {\n",
       "        vertical-align: top;\n",
       "    }\n",
       "\n",
       "    .dataframe thead th {\n",
       "        text-align: right;\n",
       "    }\n",
       "</style>\n",
       "<table border=\"1\" class=\"dataframe\">\n",
       "  <thead>\n",
       "    <tr style=\"text-align: right;\">\n",
       "      <th></th>\n",
       "      <th>recv_time</th>\n",
       "      <th>bid_price</th>\n",
       "      <th>bid_size</th>\n",
       "      <th>ask_price</th>\n",
       "      <th>ask_size</th>\n",
       "    </tr>\n",
       "  </thead>\n",
       "  <tbody>\n",
       "    <tr>\n",
       "      <th>count</th>\n",
       "      <td>1.312745e+06</td>\n",
       "      <td>1.312745e+06</td>\n",
       "      <td>1.312745e+06</td>\n",
       "      <td>1.312745e+06</td>\n",
       "      <td>1.312745e+06</td>\n",
       "    </tr>\n",
       "    <tr>\n",
       "      <th>mean</th>\n",
       "      <td>1.602215e+15</td>\n",
       "      <td>7.658014e+03</td>\n",
       "      <td>5.158142e+04</td>\n",
       "      <td>7.657961e+03</td>\n",
       "      <td>8.344331e+04</td>\n",
       "    </tr>\n",
       "    <tr>\n",
       "      <th>std</th>\n",
       "      <td>6.905859e+09</td>\n",
       "      <td>8.727901e+06</td>\n",
       "      <td>1.854745e+05</td>\n",
       "      <td>8.727901e+06</td>\n",
       "      <td>4.110124e+05</td>\n",
       "    </tr>\n",
       "    <tr>\n",
       "      <th>min</th>\n",
       "      <td>1.602206e+15</td>\n",
       "      <td>0.000000e+00</td>\n",
       "      <td>-1.000000e+05</td>\n",
       "      <td>0.000000e+00</td>\n",
       "      <td>-1.000000e+05</td>\n",
       "    </tr>\n",
       "    <tr>\n",
       "      <th>25%</th>\n",
       "      <td>1.602209e+15</td>\n",
       "      <td>1.067000e+01</td>\n",
       "      <td>1.300000e+03</td>\n",
       "      <td>1.068000e+01</td>\n",
       "      <td>1.200000e+03</td>\n",
       "    </tr>\n",
       "    <tr>\n",
       "      <th>50%</th>\n",
       "      <td>1.602212e+15</td>\n",
       "      <td>1.604000e+01</td>\n",
       "      <td>6.500000e+03</td>\n",
       "      <td>1.603000e+01</td>\n",
       "      <td>5.900000e+03</td>\n",
       "    </tr>\n",
       "    <tr>\n",
       "      <th>75%</th>\n",
       "      <td>1.602222e+15</td>\n",
       "      <td>5.642000e+01</td>\n",
       "      <td>2.766700e+04</td>\n",
       "      <td>5.631000e+01</td>\n",
       "      <td>2.800000e+04</td>\n",
       "    </tr>\n",
       "    <tr>\n",
       "      <th>max</th>\n",
       "      <td>1.602227e+15</td>\n",
       "      <td>1.000000e+10</td>\n",
       "      <td>3.864600e+06</td>\n",
       "      <td>1.000000e+10</td>\n",
       "      <td>6.773600e+06</td>\n",
       "    </tr>\n",
       "  </tbody>\n",
       "</table>\n",
       "</div>"
      ],
      "text/plain": [
       "          recv_time     bid_price      bid_size     ask_price      ask_size\n",
       "count  1.312745e+06  1.312745e+06  1.312745e+06  1.312745e+06  1.312745e+06\n",
       "mean   1.602215e+15  7.658014e+03  5.158142e+04  7.657961e+03  8.344331e+04\n",
       "std    6.905859e+09  8.727901e+06  1.854745e+05  8.727901e+06  4.110124e+05\n",
       "min    1.602206e+15  0.000000e+00 -1.000000e+05  0.000000e+00 -1.000000e+05\n",
       "25%    1.602209e+15  1.067000e+01  1.300000e+03  1.068000e+01  1.200000e+03\n",
       "50%    1.602212e+15  1.604000e+01  6.500000e+03  1.603000e+01  5.900000e+03\n",
       "75%    1.602222e+15  5.642000e+01  2.766700e+04  5.631000e+01  2.800000e+04\n",
       "max    1.602227e+15  1.000000e+10  3.864600e+06  1.000000e+10  6.773600e+06"
      ]
     },
     "execution_count": 10,
     "metadata": {},
     "output_type": "execute_result"
    }
   ],
   "source": [
    "quote.describe()"
   ]
  },
  {
   "cell_type": "code",
   "execution_count": 11,
   "metadata": {},
   "outputs": [
    {
     "data": {
      "text/html": [
       "<div>\n",
       "<style scoped>\n",
       "    .dataframe tbody tr th:only-of-type {\n",
       "        vertical-align: middle;\n",
       "    }\n",
       "\n",
       "    .dataframe tbody tr th {\n",
       "        vertical-align: top;\n",
       "    }\n",
       "\n",
       "    .dataframe thead th {\n",
       "        text-align: right;\n",
       "    }\n",
       "</style>\n",
       "<table border=\"1\" class=\"dataframe\">\n",
       "  <thead>\n",
       "    <tr style=\"text-align: right;\">\n",
       "      <th></th>\n",
       "      <th>recv_time</th>\n",
       "      <th>trade_price</th>\n",
       "      <th>trade_qty</th>\n",
       "    </tr>\n",
       "  </thead>\n",
       "  <tbody>\n",
       "    <tr>\n",
       "      <th>count</th>\n",
       "      <td>1.158474e+06</td>\n",
       "      <td>1.158474e+06</td>\n",
       "      <td>1.158474e+06</td>\n",
       "    </tr>\n",
       "    <tr>\n",
       "      <th>mean</th>\n",
       "      <td>1.602214e+15</td>\n",
       "      <td>1.285126e+02</td>\n",
       "      <td>8.741242e+04</td>\n",
       "    </tr>\n",
       "    <tr>\n",
       "      <th>std</th>\n",
       "      <td>6.929418e+09</td>\n",
       "      <td>9.290882e+04</td>\n",
       "      <td>9.290880e+07</td>\n",
       "    </tr>\n",
       "    <tr>\n",
       "      <th>min</th>\n",
       "      <td>1.602207e+15</td>\n",
       "      <td>-1.000000e+05</td>\n",
       "      <td>-1.000000e+05</td>\n",
       "    </tr>\n",
       "    <tr>\n",
       "      <th>25%</th>\n",
       "      <td>1.602208e+15</td>\n",
       "      <td>1.074000e+01</td>\n",
       "      <td>1.000000e+02</td>\n",
       "    </tr>\n",
       "    <tr>\n",
       "      <th>50%</th>\n",
       "      <td>1.602211e+15</td>\n",
       "      <td>2.059000e+01</td>\n",
       "      <td>3.000000e+02</td>\n",
       "    </tr>\n",
       "    <tr>\n",
       "      <th>75%</th>\n",
       "      <td>1.602222e+15</td>\n",
       "      <td>5.669000e+01</td>\n",
       "      <td>8.000000e+02</td>\n",
       "    </tr>\n",
       "    <tr>\n",
       "      <th>max</th>\n",
       "      <td>1.602227e+15</td>\n",
       "      <td>1.000000e+08</td>\n",
       "      <td>1.000000e+11</td>\n",
       "    </tr>\n",
       "  </tbody>\n",
       "</table>\n",
       "</div>"
      ],
      "text/plain": [
       "          recv_time   trade_price     trade_qty\n",
       "count  1.158474e+06  1.158474e+06  1.158474e+06\n",
       "mean   1.602214e+15  1.285126e+02  8.741242e+04\n",
       "std    6.929418e+09  9.290882e+04  9.290880e+07\n",
       "min    1.602207e+15 -1.000000e+05 -1.000000e+05\n",
       "25%    1.602208e+15  1.074000e+01  1.000000e+02\n",
       "50%    1.602211e+15  2.059000e+01  3.000000e+02\n",
       "75%    1.602222e+15  5.669000e+01  8.000000e+02\n",
       "max    1.602227e+15  1.000000e+08  1.000000e+11"
      ]
     },
     "execution_count": 11,
     "metadata": {},
     "output_type": "execute_result"
    }
   ],
   "source": [
    "trade.describe()"
   ]
  },
  {
   "cell_type": "code",
   "execution_count": 12,
   "id": "ed3ea54c",
   "metadata": {},
   "outputs": [],
   "source": [
    "quote.drop(quote[quote.ask_price>1e3].index,inplace=True)\n",
    "quote.drop(quote[quote.bid_price>1e3].index,inplace=True)"
   ]
  },
  {
   "cell_type": "code",
   "execution_count": 13,
   "id": "a7d53b58",
   "metadata": {},
   "outputs": [],
   "source": [
    "trade.drop(trade[trade.trade_price>1e3].index,inplace=True) \n",
    "trade.drop(trade[trade.trade_qty>1e6].index,inplace=True)"
   ]
  },
  {
   "cell_type": "code",
   "execution_count": 14,
   "metadata": {},
   "outputs": [
    {
     "data": {
      "text/html": [
       "<div>\n",
       "<style scoped>\n",
       "    .dataframe tbody tr th:only-of-type {\n",
       "        vertical-align: middle;\n",
       "    }\n",
       "\n",
       "    .dataframe tbody tr th {\n",
       "        vertical-align: top;\n",
       "    }\n",
       "\n",
       "    .dataframe thead th {\n",
       "        text-align: right;\n",
       "    }\n",
       "</style>\n",
       "<table border=\"1\" class=\"dataframe\">\n",
       "  <thead>\n",
       "    <tr style=\"text-align: right;\">\n",
       "      <th></th>\n",
       "      <th>recv_time</th>\n",
       "      <th>bid_price</th>\n",
       "      <th>bid_size</th>\n",
       "      <th>ask_price</th>\n",
       "      <th>ask_size</th>\n",
       "    </tr>\n",
       "  </thead>\n",
       "  <tbody>\n",
       "    <tr>\n",
       "      <th>count</th>\n",
       "      <td>1.312743e+06</td>\n",
       "      <td>1.312743e+06</td>\n",
       "      <td>1.312743e+06</td>\n",
       "      <td>1.312743e+06</td>\n",
       "      <td>1.312743e+06</td>\n",
       "    </tr>\n",
       "    <tr>\n",
       "      <th>mean</th>\n",
       "      <td>1.602215e+15</td>\n",
       "      <td>4.038847e+01</td>\n",
       "      <td>5.158148e+04</td>\n",
       "      <td>4.033548e+01</td>\n",
       "      <td>8.344343e+04</td>\n",
       "    </tr>\n",
       "    <tr>\n",
       "      <th>std</th>\n",
       "      <td>6.905858e+09</td>\n",
       "      <td>5.477414e+01</td>\n",
       "      <td>1.854746e+05</td>\n",
       "      <td>5.479595e+01</td>\n",
       "      <td>4.110127e+05</td>\n",
       "    </tr>\n",
       "    <tr>\n",
       "      <th>min</th>\n",
       "      <td>1.602206e+15</td>\n",
       "      <td>0.000000e+00</td>\n",
       "      <td>-1.000000e+05</td>\n",
       "      <td>0.000000e+00</td>\n",
       "      <td>-1.000000e+05</td>\n",
       "    </tr>\n",
       "    <tr>\n",
       "      <th>25%</th>\n",
       "      <td>1.602209e+15</td>\n",
       "      <td>1.067000e+01</td>\n",
       "      <td>1.300000e+03</td>\n",
       "      <td>1.068000e+01</td>\n",
       "      <td>1.200000e+03</td>\n",
       "    </tr>\n",
       "    <tr>\n",
       "      <th>50%</th>\n",
       "      <td>1.602212e+15</td>\n",
       "      <td>1.604000e+01</td>\n",
       "      <td>6.500000e+03</td>\n",
       "      <td>1.603000e+01</td>\n",
       "      <td>5.900000e+03</td>\n",
       "    </tr>\n",
       "    <tr>\n",
       "      <th>75%</th>\n",
       "      <td>1.602222e+15</td>\n",
       "      <td>5.642000e+01</td>\n",
       "      <td>2.766950e+04</td>\n",
       "      <td>5.631000e+01</td>\n",
       "      <td>2.800000e+04</td>\n",
       "    </tr>\n",
       "    <tr>\n",
       "      <th>max</th>\n",
       "      <td>1.602227e+15</td>\n",
       "      <td>2.295500e+02</td>\n",
       "      <td>3.864600e+06</td>\n",
       "      <td>2.295600e+02</td>\n",
       "      <td>6.773600e+06</td>\n",
       "    </tr>\n",
       "  </tbody>\n",
       "</table>\n",
       "</div>"
      ],
      "text/plain": [
       "          recv_time     bid_price      bid_size     ask_price      ask_size\n",
       "count  1.312743e+06  1.312743e+06  1.312743e+06  1.312743e+06  1.312743e+06\n",
       "mean   1.602215e+15  4.038847e+01  5.158148e+04  4.033548e+01  8.344343e+04\n",
       "std    6.905858e+09  5.477414e+01  1.854746e+05  5.479595e+01  4.110127e+05\n",
       "min    1.602206e+15  0.000000e+00 -1.000000e+05  0.000000e+00 -1.000000e+05\n",
       "25%    1.602209e+15  1.067000e+01  1.300000e+03  1.068000e+01  1.200000e+03\n",
       "50%    1.602212e+15  1.604000e+01  6.500000e+03  1.603000e+01  5.900000e+03\n",
       "75%    1.602222e+15  5.642000e+01  2.766950e+04  5.631000e+01  2.800000e+04\n",
       "max    1.602227e+15  2.295500e+02  3.864600e+06  2.295600e+02  6.773600e+06"
      ]
     },
     "execution_count": 14,
     "metadata": {},
     "output_type": "execute_result"
    }
   ],
   "source": [
    "quote.describe()"
   ]
  },
  {
   "cell_type": "code",
   "execution_count": 15,
   "metadata": {},
   "outputs": [
    {
     "data": {
      "text/html": [
       "<div>\n",
       "<style scoped>\n",
       "    .dataframe tbody tr th:only-of-type {\n",
       "        vertical-align: middle;\n",
       "    }\n",
       "\n",
       "    .dataframe tbody tr th {\n",
       "        vertical-align: top;\n",
       "    }\n",
       "\n",
       "    .dataframe thead th {\n",
       "        text-align: right;\n",
       "    }\n",
       "</style>\n",
       "<table border=\"1\" class=\"dataframe\">\n",
       "  <thead>\n",
       "    <tr style=\"text-align: right;\">\n",
       "      <th></th>\n",
       "      <th>recv_time</th>\n",
       "      <th>trade_price</th>\n",
       "      <th>trade_qty</th>\n",
       "    </tr>\n",
       "  </thead>\n",
       "  <tbody>\n",
       "    <tr>\n",
       "      <th>count</th>\n",
       "      <td>1.158472e+06</td>\n",
       "      <td>1.158472e+06</td>\n",
       "      <td>1.158472e+06</td>\n",
       "    </tr>\n",
       "    <tr>\n",
       "      <th>mean</th>\n",
       "      <td>1.602214e+15</td>\n",
       "      <td>4.219221e+01</td>\n",
       "      <td>1.091967e+03</td>\n",
       "    </tr>\n",
       "    <tr>\n",
       "      <th>std</th>\n",
       "      <td>6.929416e+09</td>\n",
       "      <td>1.091849e+02</td>\n",
       "      <td>5.239143e+03</td>\n",
       "    </tr>\n",
       "    <tr>\n",
       "      <th>min</th>\n",
       "      <td>1.602207e+15</td>\n",
       "      <td>-1.000000e+05</td>\n",
       "      <td>-1.000000e+05</td>\n",
       "    </tr>\n",
       "    <tr>\n",
       "      <th>25%</th>\n",
       "      <td>1.602208e+15</td>\n",
       "      <td>1.074000e+01</td>\n",
       "      <td>1.000000e+02</td>\n",
       "    </tr>\n",
       "    <tr>\n",
       "      <th>50%</th>\n",
       "      <td>1.602211e+15</td>\n",
       "      <td>2.059000e+01</td>\n",
       "      <td>3.000000e+02</td>\n",
       "    </tr>\n",
       "    <tr>\n",
       "      <th>75%</th>\n",
       "      <td>1.602222e+15</td>\n",
       "      <td>5.669000e+01</td>\n",
       "      <td>8.000000e+02</td>\n",
       "    </tr>\n",
       "    <tr>\n",
       "      <th>max</th>\n",
       "      <td>1.602227e+15</td>\n",
       "      <td>2.295500e+02</td>\n",
       "      <td>8.726000e+05</td>\n",
       "    </tr>\n",
       "  </tbody>\n",
       "</table>\n",
       "</div>"
      ],
      "text/plain": [
       "          recv_time   trade_price     trade_qty\n",
       "count  1.158472e+06  1.158472e+06  1.158472e+06\n",
       "mean   1.602214e+15  4.219221e+01  1.091967e+03\n",
       "std    6.929416e+09  1.091849e+02  5.239143e+03\n",
       "min    1.602207e+15 -1.000000e+05 -1.000000e+05\n",
       "25%    1.602208e+15  1.074000e+01  1.000000e+02\n",
       "50%    1.602211e+15  2.059000e+01  3.000000e+02\n",
       "75%    1.602222e+15  5.669000e+01  8.000000e+02\n",
       "max    1.602227e+15  2.295500e+02  8.726000e+05"
      ]
     },
     "execution_count": 15,
     "metadata": {},
     "output_type": "execute_result"
    }
   ],
   "source": [
    "trade.describe()"
   ]
  },
  {
   "cell_type": "code",
   "execution_count": 16,
   "id": "c6cc05ed",
   "metadata": {},
   "outputs": [],
   "source": [
    "quote[\"hm\"] = pd.to_datetime((quote['recv_time']//1e6+3600*8).astype(int),unit='s')\n",
    "trade[\"hm\"] = pd.to_datetime((trade['recv_time']//1e6+3600*8).astype(int),unit='s')"
   ]
  },
  {
   "cell_type": "markdown",
   "metadata": {},
   "source": [
    "# Machine Learning Prediction\n",
    "## Target Variable and Feature Engineering"
   ]
  },
  {
   "cell_type": "code",
   "execution_count": 59,
   "metadata": {},
   "outputs": [],
   "source": [
    "data = pd.merge(trade,quote,on=[\"recv_time\",\"symbol\",\"time\"],how='inner')\n",
    "data[\"mid_price\"]=(data[\"bid_price\"]+data[\"ask_price\"])/2"
   ]
  },
  {
   "cell_type": "code",
   "execution_count": 60,
   "metadata": {},
   "outputs": [],
   "source": [
    "data_temp = data[[\"time\",\"mid_price\",\"symbol\"]].copy()\n",
    "data_temp.time=data_temp[\"time\"]-pd.Timedelta(\"10s\")\n",
    "data_temp.rename(columns={\"mid_price\":\"future_mid_price\"},inplace=True)"
   ]
  },
  {
   "cell_type": "code",
   "execution_count": 61,
   "metadata": {},
   "outputs": [],
   "source": [
    "data = pd.merge_asof(data,data_temp,on = \"time\", by = \"symbol\",tolerance=pd.Timedelta(\"500ms\"))\n",
    "data.dropna(inplace=True)"
   ]
  },
  {
   "cell_type": "code",
   "execution_count": 62,
   "metadata": {},
   "outputs": [],
   "source": [
    "data[\"target\"] = np.log(data[\"future_mid_price\"]/data[\"mid_price\"])\n",
    "data[\"target_direction\"] =  np.where(data['target']>0,1,0)"
   ]
  },
  {
   "cell_type": "code",
   "execution_count": 63,
   "metadata": {},
   "outputs": [
    {
     "data": {
      "text/plain": [
       "0"
      ]
     },
     "execution_count": 63,
     "metadata": {},
     "output_type": "execute_result"
    }
   ],
   "source": [
    "import gc\n",
    "del data_temp\n",
    "gc.collect()"
   ]
  },
  {
   "cell_type": "code",
   "execution_count": 64,
   "metadata": {},
   "outputs": [],
   "source": [
    "class feature_engineering:\n",
    "    diff_window = [1,32,64]\n",
    "    second_wondw = [1,5,10]\n",
    "    max_lag = 10\n",
    "    @staticmethod\n",
    "    def spread(data):\n",
    "        data[\"spread\"] = data[\"ask_price\"]-data[\"bid_price\"]\n",
    "    @staticmethod\n",
    "    def qty_diff_sum(data):\n",
    "        data[\"qty_sum\"] = data[\"ask_size\"]+data[\"bid_size\"]\n",
    "        data[\"qty_diff\"] = data[\"ask_size\"]-data[\"bid_size\"]\n",
    "    @staticmethod\n",
    "    def trade_price_feature(data):\n",
    "        data[\"trade_price_compare\"]=0\n",
    "        data.loc[data.trade_price<=data.bid_price,\"trade_price_compare\"] = -1\n",
    "        data.loc[data.trade_price>=data.ask_price,\"trade_price_compare\"] = 1\n",
    "    @staticmethod\n",
    "    def diff(data,cols,windows):\n",
    "        for window in windows:\n",
    "            for i in cols:\n",
    "                name = f\"{i}_diff_{window}\"\n",
    "                data[name] = data.groupby(\"symbol\")[i].transform(lambda x: x-x.shift(window))\n",
    "    @staticmethod\n",
    "    def up_down(data,windows):\n",
    "        for window in windows:\n",
    "            data[f\"up_down_{window}\"]=0\n",
    "            data.loc[data[f\"bid_price_diff_{window}\"]<0,f\"up_down_{window}\"]=-1\n",
    "            data.loc[data[f\"ask_price_diff_{window}\"]>0,f\"up_down_{window}\"]=1\n",
    "    @staticmethod\n",
    "    def lag(data, col, window):\n",
    "        name = f\"{col}_lag_{window}\"\n",
    "        data[name]=data.groupby(\"symbol\")[col].transform(lambda x: x.shift(window))\n",
    "    @staticmethod\n",
    "    def rolling_data(data, col, window, how):\n",
    "        name = f\"{col}_rolling_{how}_{window}\"\n",
    "        if how == \"sum\":\n",
    "            data[name] = data.groupby(\"symbol\")[col].transform(lambda x: x.rolling(window = window,min_periods=1).sum())\n",
    "        elif how == \"mean\":\n",
    "            data[name] = data.groupby(\"symbol\")[col].transform(lambda x: x.rolling(window = window,min_periods=1).mean())\n",
    "        elif how == \"max\":\n",
    "            data[name] = data.groupby(\"symbol\")[col].transform(lambda x: x.rolling(window = window,min_periods=1).max())\n",
    "        elif how == \"min\":\n",
    "            data[name] = data.groupby(\"symbol\")[col].transform(lambda x: x.rolling(window = window,min_periods=1).min())\n",
    "        elif how == \"median\":\n",
    "            data[name] = data.groupby(\"symbol\")[col].transform(lambda x: x.rolling(window = window,min_periods=1).median())\n",
    "        elif how == \"mode\":\n",
    "            data[name] = data.groupby(\"symbol\")[col].transform(lambda x: x.rolling(window = window,min_periods=1).apply(lambda x :mode(x)[0]))\n",
    "\n",
    "    @classmethod\n",
    "    def basic(cls,data,exp):\n",
    "        data = data.copy()\n",
    "        cls.spread(data)\n",
    "        cls.qty_diff_sum(data)\n",
    "        cls.trade_price_feature(data)\n",
    "        cols = set(data.columns)-exp\n",
    "        cls.diff(data,cols,cls.diff_window)\n",
    "        cls.up_down(data,cls.diff_window)\n",
    "        return data\n",
    "\n",
    "    @classmethod\n",
    "    def lag_rolling_feature(cls,data,exp):\n",
    "        data = data.copy()\n",
    "        up_down = {f\"up_down_{window}\" for window in cls.diff_window}\n",
    "        rolling_cols=set(data.columns)-exp-{\"trade_price_compare\"}-up_down\n",
    "        for col in rolling_cols:\n",
    "            for lag in range(1,cls.max_lag+1):\n",
    "                cls.lag(data,col,lag)\n",
    "                \n",
    "        data.reset_index(inplace=True)\n",
    "        data.index = data.time\n",
    "        data.drop(columns=\"time\",inplace=True)\n",
    "        \n",
    "        for col in rolling_cols:\n",
    "            for window in cls.second_wondw:\n",
    "                window = f\"{window}s\"\n",
    "                cls.rolling_data(data,col,window,\"sum\")\n",
    "                cls.rolling_data(data,col,window,\"mean\")\n",
    "                cls.rolling_data(data,col,window,\"max\")\n",
    "                cls.rolling_data(data,col,window,\"min\")\n",
    "                cls.rolling_data(data,col,window,\"median\")\n",
    "        for col in {\"trade_price_compare\"}.union(up_down):\n",
    "            for window in cls.second_wondw:\n",
    "                window = f\"{window}s\"\n",
    "                cls.rolling_data(data,col,window,\"mode\")\n",
    "        return data\n",
    "\n",
    "class feature_selection:\n",
    "    @classmethod\n",
    "    def correlation_filter(cls,data,threshold = 0.99):\n",
    "        data = data.copy()\n",
    "        index2col = {i: col for i, col in enumerate(data.columns)}\n",
    "        corr_matrix = np.triu(np.corrcoef(feature.values,rowvar=False),k=1)\n",
    "        select = list(set(np.array(list(set(zip(*np.where(corr_matrix>threshold)))))[:,0]))\n",
    "        remove_cols = list(map(lambda x:index2col[x], select))\n",
    "        data.drop(columns=remove_cols,inplace=True)\n",
    "        print(remove_cols)\n",
    "        return data\n",
    "\n",
    "    @classmethod\n",
    "    def select(cls, train_x, train_y, top_perc=0.90,iter_time=5):\n",
    "        feature_imp = np.zeros((train_x.shape[1], iter_time))\n",
    "        for i in range(0, iter_time):\n",
    "            rf = RandomForestClassifier(n_estimators=10, max_depth=8)\n",
    "            rf.fit(train_x, train_y)\n",
    "            feature_imp[:,i] = rf.feature_importances_\n",
    "        score =  np.mean(feature_imp,axis=1)\n",
    "        feature_select = np.where(score>np.quantile(score,top_perc))[0]\n",
    "        return feature_select\n",
    "\n",
    "\n",
    "class lightgbm_model:\n",
    "    lgbm_paramgrid = {\n",
    "        'learning_rate': np.arange(0.0005, 0.0015, 0.0002),\n",
    "        'n_estimators': range(800, 2000, 200),\n",
    "        'max_depth': [3, 4],\n",
    "        'colsample_bytree': np.arange(0.2, 0.5, 0.15),\n",
    "        'reg_alpha': [1],\n",
    "        'reg_lambda': [1]\n",
    "    }\n",
    "\n",
    "    @classmethod\n",
    "    def lightgbm(cls, x, y):\n",
    "        best_param = cls.GS_tune_lgbm(x, y)\n",
    "        lightgbm = LGBMClassifier(**best_param)\n",
    "        lightgbm.fit(x, y)\n",
    "\n",
    "        return lightgbm\n",
    "\n",
    "    @classmethod\n",
    "    def GS_tune_lgbm(cls, x, y):\n",
    "        tuner = GridSearchCV(\n",
    "            estimator=LGBMClassifier(),\n",
    "            param_grid=cls.lgbm_paramgrid,\n",
    "            scoring=\"accuracy\",\n",
    "            cv=TimeSeriesSplit(n_splits=3),\n",
    "            verbose=1,\n",
    "            n_jobs=-1,\n",
    "        )\n",
    "        tuner.fit(x, y)\n",
    "        return tuner.best_params_"
   ]
  },
  {
   "cell_type": "code",
   "execution_count": 68,
   "metadata": {},
   "outputs": [],
   "source": [
    "target =  data['target_direction'].copy()"
   ]
  },
  {
   "cell_type": "code",
   "execution_count": 69,
   "metadata": {},
   "outputs": [],
   "source": [
    "exp={\"recv_time\",\"target_direction\",\"target\",\"future_mid_price\"}\n",
    "feature = data[set(data.columns)-exp].copy()\n",
    "feature.sort_values(\"time\",inplace=True)\n",
    "exp = {\"time\",\"symbol\"}"
   ]
  },
  {
   "cell_type": "code",
   "execution_count": 70,
   "metadata": {},
   "outputs": [],
   "source": [
    "feature = feature_engineering.basic(feature,exp)\n",
    "feature.dropna(inplace=True)\n",
    "head = feature[[\"time\",\"symbol\"]].copy()\n",
    "feature.drop(columns=[\"time\",\"symbol\"],inplace=True)\n",
    "target = target[feature.index]"
   ]
  },
  {
   "cell_type": "code",
   "execution_count": 71,
   "metadata": {},
   "outputs": [
    {
     "name": "stdout",
     "output_type": "stream",
     "text": [
      "filtered out feature\n",
      "['ask_price', 'mid_price', 'ask_price_diff_64', 'bid_price', 'ask_price_diff_1', 'mid_price_diff_1', 'ask_price_diff_32', 'mid_price_diff_32']\n"
     ]
    }
   ],
   "source": [
    "print(\"filtered out feature\")\n",
    "feature = feature_selection.correlation_filter(feature)\n",
    "feature[[\"time\",\"symbol\"]] = head"
   ]
  },
  {
   "cell_type": "code",
   "execution_count": null,
   "metadata": {},
   "outputs": [],
   "source": [
    "feature = feature_engineering.lag_rolling_feature(feature,exp)"
   ]
  },
  {
   "cell_type": "code",
   "execution_count": 73,
   "metadata": {},
   "outputs": [],
   "source": [
    "feature.dropna(inplace=True)\n",
    "feature.drop(columns=\"symbol\",inplace=True)"
   ]
  },
  {
   "cell_type": "code",
   "execution_count": 74,
   "metadata": {},
   "outputs": [],
   "source": [
    "target = target[feature[\"index\"]]\n",
    "feature.drop(columns=\"index\",inplace=True)"
   ]
  },
  {
   "cell_type": "code",
   "execution_count": 75,
   "metadata": {},
   "outputs": [
    {
     "data": {
      "text/plain": [
       "0"
      ]
     },
     "execution_count": 75,
     "metadata": {},
     "output_type": "execute_result"
    }
   ],
   "source": [
    "del head, exp\n",
    "gc.collect()"
   ]
  },
  {
   "cell_type": "code",
   "execution_count": 76,
   "metadata": {},
   "outputs": [
    {
     "name": "stdout",
     "output_type": "stream",
     "text": [
      "filtered out feature\n",
      "['trade_price_rolling_min_1s', 'trade_price_rolling_median_1s', 'ask_size', 'trade_price', 'trade_price_rolling_max_5s', 'trade_price_rolling_min_5s', 'trade_price_rolling_mean_5s', 'qty_sum', 'spread', 'trade_price_rolling_median_5s', 'trade_price_rolling_mean_10s', 'spread_diff_1', 'trade_price_rolling_max_10s', 'trade_price_rolling_min_10s', 'spread_diff_32', 'mid_price_diff_64', 'spread_diff_64', 'trade_qty_rolling_max_5s', 'trade_qty_rolling_max_10s', 'bid_price_diff_64_rolling_mean_1s', 'spread_diff_32_rolling_mean_1s', 'spread_diff_32_rolling_max_1s', 'spread_diff_32_rolling_min_1s', 'spread_diff_32_rolling_mean_5s', 'spread_diff_32_rolling_mean_10s', 'spread_diff_32_rolling_min_10s', 'qty_sum_diff_32_rolling_mean_1s', 'trade_price_lag_1', 'trade_price_lag_2', 'trade_price_lag_3', 'trade_price_lag_4', 'trade_price_lag_5', 'trade_price_lag_6', 'trade_price_lag_7', 'trade_price_lag_8', 'trade_price_lag_9', 'trade_price_lag_10', 'qty_sum_diff_64_rolling_mean_1s', 'qty_diff_diff_64_rolling_mean_1s', 'spread_diff_64_rolling_mean_1s', 'spread_diff_64_rolling_max_1s', 'spread_diff_64_rolling_min_1s', 'spread_diff_64_rolling_mean_5s', 'spread_diff_64_rolling_max_5s', 'spread_diff_64_rolling_min_5s', 'spread_diff_64_rolling_median_5s', 'spread_diff_64_rolling_mean_10s', 'spread_diff_64_rolling_min_10s', 'qty_sum_rolling_mean_1s', 'qty_sum_rolling_max_1s', 'qty_sum_rolling_min_1s', 'qty_sum_rolling_median_1s', 'qty_sum_rolling_mean_5s', 'qty_sum_rolling_mean_10s', 'qty_sum_lag_1', 'ask_size_rolling_mean_1s', 'ask_size_rolling_min_1s', 'ask_size_rolling_mean_5s', 'ask_size_rolling_mean_10s', 'ask_size_diff_64_rolling_mean_1s', 'qty_diff_rolling_mean_1s', 'trade_price_diff_64_rolling_mean_1s', 'trade_price_diff_64_rolling_mean_5s', 'spread_diff_1_rolling_sum_1s', 'spread_diff_1_rolling_mean_1s', 'bid_size_rolling_mean_1s', 'bid_size_rolling_mean_5s', 'spread_rolling_mean_1s', 'spread_rolling_max_1s', 'spread_rolling_min_1s', 'spread_rolling_median_1s', 'spread_rolling_mean_5s', 'spread_rolling_max_5s', 'spread_rolling_min_5s', 'spread_rolling_median_5s', 'spread_rolling_mean_10s', 'spread_rolling_min_10s', 'trade_qty_diff_32_rolling_max_5s', 'trade_qty_diff_32_rolling_max_10s', 'mid_price_diff_64_rolling_mean_1s', 'mid_price_diff_64_rolling_min_1s', 'mid_price_diff_64_rolling_mean_5s', 'mid_price_diff_64_rolling_max_5s', 'mid_price_diff_64_rolling_min_5s', 'mid_price_diff_64_rolling_median_5s', 'mid_price_diff_64_rolling_mean_10s', 'bid_size_diff_64_rolling_mean_1s', 'trade_qty_diff_64_rolling_max_5s', 'trade_qty_diff_64_rolling_max_10s', 'trade_price_rolling_mean_1s', 'trade_price_rolling_max_1s']\n"
     ]
    }
   ],
   "source": [
    "print(\"filtered out feature\")\n",
    "feature = feature_selection.correlation_filter(feature)"
   ]
  },
  {
   "cell_type": "markdown",
   "metadata": {},
   "source": [
    "## Data Normalization and Feature Selection"
   ]
  },
  {
   "cell_type": "code",
   "execution_count": 78,
   "metadata": {},
   "outputs": [],
   "source": [
    "threshold=int(feature.shape[0]*0.6)\n",
    "train_x = feature.iloc[:threshold,:].values\n",
    "test_x = feature.iloc[threshold:,:].values\n",
    "train_y = target.iloc[:threshold].values\n",
    "test_y = target.iloc[threshold:].values"
   ]
  },
  {
   "cell_type": "code",
   "execution_count": 79,
   "metadata": {},
   "outputs": [],
   "source": [
    "scaler = RobustScaler()\n",
    "scaler.fit(train_x)\n",
    "train_x = scaler.transform(train_x)\n",
    "test_x = scaler.transform(test_x)"
   ]
  },
  {
   "cell_type": "code",
   "execution_count": 80,
   "metadata": {},
   "outputs": [],
   "source": [
    "feature_select = feature_selection.select(train_x,train_y)"
   ]
  },
  {
   "cell_type": "code",
   "execution_count": 81,
   "metadata": {},
   "outputs": [],
   "source": [
    "train_x=train_x[:,feature_select]\n",
    "test_x=test_x[:,feature_select]"
   ]
  },
  {
   "cell_type": "markdown",
   "metadata": {},
   "source": [
    "## Model Training (LightGBM)"
   ]
  },
  {
   "cell_type": "code",
   "execution_count": 84,
   "metadata": {},
   "outputs": [
    {
     "name": "stdout",
     "output_type": "stream",
     "text": [
      "Fitting 3 folds for each of 120 candidates, totalling 360 fits\n"
     ]
    }
   ],
   "source": [
    "model = lightgbm_model.lightgbm(train_x,train_y)"
   ]
  },
  {
   "cell_type": "markdown",
   "metadata": {},
   "source": [
    "## Model testing (LightGBM)"
   ]
  },
  {
   "cell_type": "code",
   "execution_count": 85,
   "metadata": {},
   "outputs": [],
   "source": [
    "lgbm_predict = model.predict(test_x)"
   ]
  },
  {
   "cell_type": "code",
   "execution_count": 88,
   "metadata": {},
   "outputs": [
    {
     "name": "stdout",
     "output_type": "stream",
     "text": [
      "Accuracy\n"
     ]
    },
    {
     "data": {
      "text/plain": [
       "0.7116528297387131"
      ]
     },
     "execution_count": 88,
     "metadata": {},
     "output_type": "execute_result"
    }
   ],
   "source": [
    "print(\"Accuracy\")\n",
    "(lgbm_predict == test_y).sum()/test_y.shape[0]"
   ]
  },
  {
   "cell_type": "code",
   "execution_count": 90,
   "metadata": {},
   "outputs": [
    {
     "name": "stdout",
     "output_type": "stream",
     "text": [
      "AUC score\n"
     ]
    },
    {
     "data": {
      "text/plain": [
       "0.7453023415122542"
      ]
     },
     "execution_count": 90,
     "metadata": {},
     "output_type": "execute_result"
    }
   ],
   "source": [
    "print(\"AUC score\")\n",
    "lgbm_proba = model.predict_proba(test_x)[:,1]\n",
    "roc_auc_score(test_y,lgbm_proba)"
   ]
  },
  {
   "cell_type": "code",
   "execution_count": 91,
   "metadata": {},
   "outputs": [],
   "source": [
    "res = []\n",
    "res_n=[]\n",
    "for i in np.arange(0.1,0.78,0.01):\n",
    "    lgbm_predict = np.where(lgbm_proba>i,1,0)\n",
    "    pos_res = test_y[np.where(lgbm_predict==1)[0]]\n",
    "    res.append((pos_res==1).sum()/pos_res.shape[0])\n",
    "    res_n.append(pos_res.shape[0]/test_y.shape[0])"
   ]
  },
  {
   "cell_type": "code",
   "execution_count": 102,
   "metadata": {},
   "outputs": [
    {
     "data": {
      "image/png": "[encoded data removed]",
      "text/plain": [
       "<Figure size 432x288 with 1 Axes>"
      ]
     },
     "metadata": {
      "needs_background": "light"
     },
     "output_type": "display_data"
    }
   ],
   "source": [
    "plt.plot(np.arange(0.1,0.78,0.01),res)\n",
    "plt.xlabel(\"Threshold\")\n",
    "plt.ylabel(\"Accuracy\")\n",
    "plt.show()"
   ]
  },
  {
   "cell_type": "code",
   "execution_count": 103,
   "metadata": {},
   "outputs": [
    {
     "data": {
      "image/png": "[encoded data removed]",
      "text/plain": [
       "<Figure size 432x288 with 1 Axes>"
      ]
     },
     "metadata": {
      "needs_background": "light"
     },
     "output_type": "display_data"
    }
   ],
   "source": [
    "plt.plot(np.arange(0.1,0.78,0.01),res_n)\n",
    "plt.xlabel(\"Threshold\")\n",
    "plt.ylabel(\"Ratio\")\n",
    "plt.show()"
   ]
  },
  {
   "cell_type": "code",
   "execution_count": 94,
   "metadata": {},
   "outputs": [
    {
     "name": "stdout",
     "output_type": "stream",
     "text": [
      "0.6159024905394702\n",
      "0.169366979177535\n"
     ]
    }
   ],
   "source": [
    "lgbm_predict = np.where(lgbm_proba>0.52,1,0)\n",
    "pos_res = test_y[np.where(lgbm_predict==1)[0]]\n",
    "print((pos_res==1).sum()/pos_res.shape[0])\n",
    "print(pos_res.shape[0]/test_y.shape[0])"
   ]
  },
  {
   "cell_type": "code",
   "execution_count": 104,
   "metadata": {},
   "outputs": [
    {
     "data": {
      "text/plain": [
       "0.32491690390663425"
      ]
     },
     "execution_count": 104,
     "metadata": {},
     "output_type": "execute_result"
    }
   ],
   "source": [
    "(test_y==1).sum()/test_y.shape[0]"
   ]
  },
  {
   "cell_type": "markdown",
   "metadata": {},
   "source": [
    "## Model Training (MLP)"
   ]
  },
  {
   "cell_type": "code",
   "execution_count": 95,
   "metadata": {},
   "outputs": [],
   "source": [
    "import torch\n",
    "import torch.nn as nn\n",
    "import transformers\n",
    "import time"
   ]
  },
  {
   "cell_type": "code",
   "execution_count": 96,
   "metadata": {},
   "outputs": [],
   "source": [
    "# Function and classes define\n",
    "\n",
    "# MLP Class\n",
    "class MLPBlock(nn.Module):\n",
    "    def __init__(self,n_input,n_output,ifBatchnorm):\n",
    "        super(MLPBlock, self).__init__()\n",
    "        self.linear=nn.Linear(n_input,n_output)\n",
    "        self.relu=nn.functional.hardtanh\n",
    "        self.ifBatchnorm=ifBatchnorm\n",
    "        if ifBatchnorm:\n",
    "            self.Batchnorm=nn.BatchNorm1d(n_output)\n",
    "    def forward(self, x):\n",
    "        out=self.linear(x)\n",
    "        if self.ifBatchnorm:\n",
    "            out=self.Batchnorm(out)\n",
    "        out=self.relu(out,min_val=-1,max_val=1)\n",
    "        return out\n",
    "class MLPModel(nn.Module):\n",
    "    def __init__(self,inputs,ifBatchnorm=True):\n",
    "        super(MLPModel,self).__init__()\n",
    "        layers=[]\n",
    "        num_layers=len(inputs)-1\n",
    "        for i in range(num_layers):\n",
    "            if i != num_layers-1:\n",
    "                layers+=[MLPBlock(inputs[i],inputs[i+1],ifBatchnorm)]\n",
    "            else:\n",
    "                self.lastLinear=nn.Linear(inputs[i],inputs[i+1])\n",
    "        self.network = nn.Sequential(*layers)\n",
    "    def forward(self,x):\n",
    "        out=self.network(x)\n",
    "        out=self.lastLinear(out)\n",
    "        return out\n",
    "\n",
    "# Data loader\n",
    "class n_window_indexer:\n",
    "\n",
    "    def __init__( self, x_tup, window_len = 32 ):\n",
    "        self.idxes = {}\n",
    "\n",
    "        self.idxes['train'], self.idxes['test'], self.idxes['valid'] = np.arange(x_tup[0].shape[0]),\\\n",
    "            np.arange(x_tup[1].shape[0]), np.arange(x_tup[2].shape[0])\n",
    "\n",
    "        self.window = window_len\n",
    "        self.n_lookback = self.window\n",
    "\n",
    "        # maximum len\n",
    "        self.max_len = len(self.idxes['train']) + len(self.idxes['test']) + \\\n",
    "            len(self.idxes['valid'])\n",
    "\n",
    "        self.init_lookbacks()\n",
    "\n",
    "    def init_lookbacks( self ):\n",
    "        v = []\n",
    "        for i in range(self.n_lookback + 1):\n",
    "            prev_n = self.n_lookback - i\n",
    "\n",
    "            if prev_n > 0:\n",
    "                this_v = np.hstack((np.ones((prev_n, 1)).reshape(-1,) * i,  np.arange(i, -1, -1).reshape(-1,)))\n",
    "            else:\n",
    "                this_v = np.arange(i, -1, -1).reshape(-1,)\n",
    "\n",
    "            v.append(this_v)\n",
    "        self.back_inds = np.vstack( v )\n",
    "\n",
    "\n",
    "        _lookback = np.ones(self.max_len) * self.n_lookback\n",
    "        _lookback[:self.n_lookback] = np.arange(0, self.n_lookback)\n",
    "\n",
    "        self.full_lookback = _lookback.astype(int)\n",
    "\n",
    "    def get_len( self, data_type = 'train', batch_size = 1024):\n",
    "        the_n = self.idxes[data_type].shape[0]\n",
    "        the_n_batch = int(np.ceil(the_n / batch_size))\n",
    "\n",
    "        return the_n_batch\n",
    "\n",
    "    def iter_data( self, batch_size = 1024, data_type = 'train', shuffle=True, seed = 0, return_ratio = 1.0):\n",
    "\n",
    "        raw_inds = self.idxes[data_type].copy()\n",
    "        inds = raw_inds\n",
    "        self.n = inds.shape[0]\n",
    "        self.n_batches = int( np.ceil( self.n / batch_size))\n",
    "\n",
    "        if shuffle:\n",
    "            np.random.seed(seed)\n",
    "            np.random.shuffle(inds)\n",
    "            np.random.seed(None)\n",
    "\n",
    "        up_limit = int(self.n_batches * return_ratio)\n",
    "\n",
    "        for i_batch in range(up_limit):\n",
    "            curr_inds = inds[batch_size * i_batch : batch_size * (i_batch + 1)]\n",
    "\n",
    "            actual_len = len(curr_inds)\n",
    "\n",
    "            take_inds = (curr_inds.reshape(actual_len, 1) - self.back_inds[self.full_lookback[curr_inds]]).astype(int)\n",
    "\n",
    "            yield take_inds, curr_inds"
   ]
  },
  {
   "cell_type": "code",
   "execution_count": 97,
   "metadata": {},
   "outputs": [],
   "source": [
    "xtrain,  xtest= torch.Tensor(train_x),torch.Tensor(test_x)\n",
    "ytrain,  ytest= torch.Tensor(train_y),torch.Tensor(test_y)"
   ]
  },
  {
   "cell_type": "code",
   "execution_count": 98,
   "metadata": {},
   "outputs": [],
   "source": [
    "epoch=50\n",
    "seq_len=0\n",
    "inputs=[train_x.shape[1],64,32,1]\n",
    "learning_rate=0.00005\n",
    "batch_size=64\n",
    "Linear_Barchnorm=True"
   ]
  },
  {
   "cell_type": "code",
   "execution_count": 99,
   "metadata": {},
   "outputs": [],
   "source": [
    "Iter = n_window_indexer((xtrain, xtest, xtest),seq_len)\n",
    "if torch.cuda.is_available():\n",
    "    device=\"cuda:0\"\n",
    "else:\n",
    "    device=\"cpu\"\n",
    "net=MLPModel(inputs,Linear_Barchnorm).to(device)\n",
    "optimizer=torch.optim.Adam(net.parameters(),lr=learning_rate)\n",
    "scheduler=transformers.get_cosine_schedule_with_warmup(optimizer,num_warmup_steps=100,num_training_steps=epoch)\n",
    "loss=nn.BCEWithLogitsLoss()\n",
    "torch.backends.cudnn.benchmark=True\n",
    "for param in net.parameters():\n",
    "    nn.init.normal_(param,mean=0,std=0.1)"
   ]
  },
  {
   "cell_type": "code",
   "execution_count": 100,
   "metadata": {},
   "outputs": [
    {
     "name": "stdout",
     "output_type": "stream",
     "text": [
      "Epoch: 1  , loss: 0.693 , Time: 9\n",
      "Epoch: 1  , loss: 0.691\n",
      "Epoch: 2  , loss: 0.692 , Time: 19\n",
      "Epoch: 2  , loss: 0.689\n",
      "Epoch: 3  , loss: 0.690 , Time: 28\n",
      "Epoch: 3  , loss: 0.685\n",
      "Epoch: 4  , loss: 0.687 , Time: 36\n",
      "Epoch: 4  , loss: 0.681\n",
      "Epoch: 5  , loss: 0.685 , Time: 46\n",
      "Epoch: 5  , loss: 0.676\n",
      "Epoch: 6  , loss: 0.682 , Time: 55\n",
      "Epoch: 6  , loss: 0.670\n",
      "Epoch: 7  , loss: 0.679 , Time: 64\n",
      "Epoch: 7  , loss: 0.664\n",
      "Epoch: 8  , loss: 0.676 , Time: 72\n",
      "Epoch: 8  , loss: 0.658\n",
      "Epoch: 9  , loss: 0.673 , Time: 81\n",
      "Epoch: 9  , loss: 0.653\n",
      "Epoch: 10  , loss: 0.671 , Time: 90\n",
      "Epoch: 10  , loss: 0.648\n",
      "Epoch: 11  , loss: 0.668 , Time: 98\n",
      "Epoch: 11  , loss: 0.643\n",
      "Epoch: 12  , loss: 0.666 , Time: 107\n",
      "Epoch: 12  , loss: 0.638\n",
      "Epoch: 13  , loss: 0.664 , Time: 116\n",
      "Epoch: 13  , loss: 0.635\n",
      "Epoch: 14  , loss: 0.662 , Time: 124\n",
      "Epoch: 14  , loss: 0.631\n",
      "Epoch: 15  , loss: 0.659 , Time: 133\n",
      "Epoch: 15  , loss: 0.628\n",
      "Epoch: 16  , loss: 0.658 , Time: 142\n",
      "Epoch: 16  , loss: 0.625\n",
      "Epoch: 17  , loss: 0.656 , Time: 151\n",
      "Epoch: 17  , loss: 0.623\n",
      "Epoch: 18  , loss: 0.654 , Time: 159\n",
      "Epoch: 18  , loss: 0.621\n",
      "Epoch: 19  , loss: 0.652 , Time: 168\n",
      "Epoch: 19  , loss: 0.619\n",
      "Epoch: 20  , loss: 0.651 , Time: 177\n",
      "Epoch: 20  , loss: 0.617\n",
      "Epoch: 21  , loss: 0.650 , Time: 186\n",
      "Epoch: 21  , loss: 0.615\n",
      "Epoch: 22  , loss: 0.649 , Time: 195\n",
      "Epoch: 22  , loss: 0.614\n",
      "Epoch: 23  , loss: 0.648 , Time: 203\n",
      "Epoch: 23  , loss: 0.612\n",
      "Epoch: 24  , loss: 0.647 , Time: 213\n",
      "Epoch: 24  , loss: 0.611\n",
      "Epoch: 25  , loss: 0.646 , Time: 221\n",
      "Epoch: 25  , loss: 0.610\n",
      "Epoch: 26  , loss: 0.646 , Time: 230\n",
      "Epoch: 26  , loss: 0.609\n",
      "Epoch: 27  , loss: 0.645 , Time: 239\n",
      "Epoch: 27  , loss: 0.608\n",
      "Epoch: 28  , loss: 0.645 , Time: 248\n",
      "Epoch: 28  , loss: 0.608\n",
      "Epoch: 29  , loss: 0.644 , Time: 256\n",
      "Epoch: 29  , loss: 0.607\n",
      "Epoch: 30  , loss: 0.644 , Time: 265\n",
      "Epoch: 30  , loss: 0.606\n",
      "Epoch: 31  , loss: 0.643 , Time: 274\n",
      "Epoch: 31  , loss: 0.606\n",
      "Epoch: 32  , loss: 0.643 , Time: 283\n",
      "Epoch: 32  , loss: 0.605\n",
      "Epoch: 33  , loss: 0.643 , Time: 291\n",
      "Epoch: 33  , loss: 0.604\n",
      "Epoch: 34  , loss: 0.642 , Time: 300\n",
      "Epoch: 34  , loss: 0.604\n",
      "Epoch: 35  , loss: 0.642 , Time: 309\n",
      "Epoch: 35  , loss: 0.603\n",
      "Epoch: 36  , loss: 0.642 , Time: 317\n",
      "Epoch: 36  , loss: 0.603\n",
      "Epoch: 37  , loss: 0.641 , Time: 326\n",
      "Epoch: 37  , loss: 0.602\n",
      "Epoch: 38  , loss: 0.641 , Time: 335\n",
      "Epoch: 38  , loss: 0.601\n",
      "Epoch: 39  , loss: 0.641 , Time: 344\n",
      "Epoch: 39  , loss: 0.601\n",
      "Epoch: 40  , loss: 0.640 , Time: 353\n",
      "Epoch: 40  , loss: 0.601\n",
      "Epoch: 41  , loss: 0.640 , Time: 362\n",
      "Epoch: 41  , loss: 0.600\n",
      "Epoch: 42  , loss: 0.640 , Time: 372\n",
      "Epoch: 42  , loss: 0.600\n",
      "Epoch: 43  , loss: 0.640 , Time: 382\n",
      "Epoch: 43  , loss: 0.599\n",
      "Epoch: 44  , loss: 0.639 , Time: 390\n",
      "Epoch: 44  , loss: 0.599\n",
      "Epoch: 45  , loss: 0.639 , Time: 399\n",
      "Epoch: 45  , loss: 0.598\n",
      "Epoch: 46  , loss: 0.639 , Time: 408\n",
      "Epoch: 46  , loss: 0.598\n",
      "Epoch: 47  , loss: 0.639 , Time: 416\n",
      "Epoch: 47  , loss: 0.597\n",
      "Epoch: 48  , loss: 0.638 , Time: 425\n",
      "Epoch: 48  , loss: 0.596\n",
      "Epoch: 49  , loss: 0.638 , Time: 433\n",
      "Epoch: 49  , loss: 0.596\n",
      "Epoch: 50  , loss: 0.638 , Time: 442\n",
      "Epoch: 50  , loss: 0.596\n"
     ]
    }
   ],
   "source": [
    "start=time.time()\n",
    "for i in range(1,epoch+1):\n",
    "    net.train()\n",
    "    for ind_x,ind_y in Iter.iter_data(data_type='train', shuffle=True, batch_size =batch_size):\n",
    "        y_hat=net(torch.squeeze(xtrain[ind_x,:].to(device)))\n",
    "        y=ytrain[ind_y]\n",
    "        y=y.to(device)\n",
    "        l=loss(y_hat,y.view(-1,1))\n",
    "        optimizer.zero_grad()\n",
    "        l.backward()\n",
    "        optimizer.step()\n",
    "    scheduler.step()\n",
    "\n",
    "    net.eval()\n",
    "    test_loss = 1e10\n",
    "    with torch.no_grad():\n",
    "        result_train=torch.zeros(ytrain.shape[0]).to(device)\n",
    "        for ind_x,ind_y in Iter.iter_data(data_type='train', shuffle=False, batch_size =batch_size):\n",
    "            result_train[ind_y]=net(torch.squeeze(xtrain[ind_x,:].to(device))).view(-1)\n",
    "        train_l=loss(result_train.view(-1,1),ytrain.view(-1,1).to(device))\n",
    "        T=time.time()-start\n",
    "        print(\"Epoch: %d  , loss: %.3f , Time: %d\"%(i,train_l,T))\n",
    "\n",
    "        result_test=torch.zeros(ytest.shape[0]).to(device)\n",
    "        for ind_x,ind_y in Iter.iter_data(data_type='test', shuffle=False, batch_size =batch_size):\n",
    "            result_test[ind_y]=net(torch.squeeze(xtest[ind_x,:].to(device))).view(-1)\n",
    "        test_l=loss(result_test.view(-1,1),ytest.view(-1,1).to(device))\n",
    "        print(\"Epoch: %d  , loss: %.3f\"%(i,test_l))\n",
    "        if test_loss-test_l<1e-3:\n",
    "            break\n",
    "        test_loss = test_l"
   ]
  },
  {
   "cell_type": "markdown",
   "metadata": {},
   "source": [
    "## Model Testing (MLP)"
   ]
  },
  {
   "cell_type": "code",
   "execution_count": 105,
   "metadata": {},
   "outputs": [],
   "source": [
    "net.eval()\n",
    "pre = torch.sigmoid(net(xtest.to(device))).detach().cpu().numpy().reshape(-1)"
   ]
  },
  {
   "cell_type": "code",
   "execution_count": 106,
   "metadata": {},
   "outputs": [],
   "source": [
    "pre_ = np.where(pre>0.5,1,0)"
   ]
  },
  {
   "cell_type": "code",
   "execution_count": 111,
   "metadata": {},
   "outputs": [
    {
     "name": "stdout",
     "output_type": "stream",
     "text": [
      "AUC score\n"
     ]
    },
    {
     "data": {
      "text/plain": [
       "0.7112228857597853"
      ]
     },
     "execution_count": 111,
     "metadata": {},
     "output_type": "execute_result"
    }
   ],
   "source": [
    "print(\"AUC score\")\n",
    "roc_auc_score(test_y,pre)"
   ]
  },
  {
   "cell_type": "code",
   "execution_count": 112,
   "metadata": {},
   "outputs": [
    {
     "name": "stdout",
     "output_type": "stream",
     "text": [
      "Accuracy\n"
     ]
    },
    {
     "data": {
      "text/plain": [
       "0.697545125277608"
      ]
     },
     "execution_count": 112,
     "metadata": {},
     "output_type": "execute_result"
    }
   ],
   "source": [
    "print(\"Accuracy\")\n",
    "(pre_ == test_y).sum()/test_y.shape[0]"
   ]
  },
  {
   "cell_type": "code",
   "execution_count": 113,
   "metadata": {},
   "outputs": [],
   "source": [
    "res = []\n",
    "res_n=[]\n",
    "for i in np.arange(0.1,0.78,0.01):\n",
    "    pre_ = np.where(pre>i,1,0)\n",
    "    pos_res = test_y[np.where(pre_==1)[0]]\n",
    "    res.append((pos_res==1).sum()/pos_res.shape[0])\n",
    "    res_n.append(pos_res.shape[0]/test_y.shape[0])"
   ]
  },
  {
   "cell_type": "code",
   "execution_count": 116,
   "metadata": {},
   "outputs": [
    {
     "data": {
      "image/png": "[encoded data removed]",
      "text/plain": [
       "<Figure size 432x288 with 1 Axes>"
      ]
     },
     "metadata": {
      "needs_background": "light"
     },
     "output_type": "display_data"
    }
   ],
   "source": [
    "plt.plot(np.arange(0.1,0.78,0.01),res)\n",
    "plt.xlabel(\"Threshold\")\n",
    "plt.ylabel(\"Accuracy\")\n",
    "plt.show()"
   ]
  },
  {
   "cell_type": "code",
   "execution_count": 117,
   "metadata": {},
   "outputs": [
    {
     "data": {
      "image/png": "[encoded data removed]",
      "text/plain": [
       "<Figure size 432x288 with 1 Axes>"
      ]
     },
     "metadata": {
      "needs_background": "light"
     },
     "output_type": "display_data"
    }
   ],
   "source": [
    "plt.plot(np.arange(0.1,0.78,0.01),res_n)\n",
    "plt.xlabel(\"Threshold\")\n",
    "plt.ylabel(\"Ratio\")\n",
    "plt.show()"
   ]
  },
  {
   "cell_type": "code",
   "execution_count": 124,
   "metadata": {},
   "outputs": [
    {
     "name": "stdout",
     "output_type": "stream",
     "text": [
      "0.589425587467363\n",
      "0.125590615730873\n"
     ]
    }
   ],
   "source": [
    "pre_ = np.where(pre>0.5,1,0)\n",
    "pos_res = test_y[np.where(pre_==1)[0]]\n",
    "print((pos_res==1).sum()/pos_res.shape[0])\n",
    "print(pos_res.shape[0]/test_y.shape[0])"
   ]
  }
 ],
 "metadata": {
  "interpreter": {
   "hash": "6f15c67e9b81dd09b8a8871f0315a6714bb494bf05427bf4f1e3f3b756ccde74"
  },
  "kernelspec": {
   "display_name": "Python 3.9.5 64-bit ('base': conda)",
   "language": "python",
   "name": "python3"
  },
  "language_info": {
   "codemirror_mode": {
    "name": "ipython",
    "version": 3
   },
   "file_extension": ".py",
   "mimetype": "text/x-python",
   "name": "python",
   "nbconvert_exporter": "python",
   "pygments_lexer": "ipython3",
   "version": "3.9.5"
  },
  "orig_nbformat": 4
 },
 "nbformat": 4,
 "nbformat_minor": 2
}
